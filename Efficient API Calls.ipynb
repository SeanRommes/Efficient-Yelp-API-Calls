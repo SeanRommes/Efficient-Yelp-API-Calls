{
 "cells": [
  {
   "cell_type": "code",
   "execution_count": 1,
   "id": "83d5b57f",
   "metadata": {},
   "outputs": [],
   "source": [
    "# imports\n",
    "\n",
    "import numpy as np\n",
    "import pandas as pd\n",
    "import matplotlib.pyplot as plt\n",
    "import seaborn as sns\n",
    "\n",
    "# Additional Imports\n",
    "import os, json, math, time\n",
    "from yelpapi import YelpAPI\n",
    "from tqdm.notebook import tqdm_notebook\n",
    "\n"
   ]
  },
  {
   "cell_type": "code",
   "execution_count": 2,
   "id": "8ce5b59a",
   "metadata": {},
   "outputs": [
    {
     "data": {
      "text/plain": [
       "dict_keys(['client-id', 'api-key'])"
      ]
     },
     "execution_count": 2,
     "metadata": {},
     "output_type": "execute_result"
    }
   ],
   "source": [
    "#getting credentials\n",
    "with open('C:/Users/Sean/.edit/yelp_api.json') as f:\n",
    "    login = json.load(f)\n",
    "login.keys()"
   ]
  },
  {
   "cell_type": "code",
   "execution_count": 3,
   "id": "3fe09aa3",
   "metadata": {},
   "outputs": [
    {
     "data": {
      "text/plain": [
       "<yelpapi.yelpapi.YelpAPI at 0x2c086fa75e0>"
      ]
     },
     "execution_count": 3,
     "metadata": {},
     "output_type": "execute_result"
    }
   ],
   "source": [
    "#extracting api\n",
    "yelp_api = YelpAPI(login['api-key'], timeout_s = 5.0)\n",
    "yelp_api"
   ]
  },
  {
   "cell_type": "code",
   "execution_count": 4,
   "id": "9ffa81ac",
   "metadata": {},
   "outputs": [
    {
     "data": {
      "text/plain": [
       "'Data/results_in_progress_tasty_wings.json'"
      ]
     },
     "execution_count": 4,
     "metadata": {},
     "output_type": "execute_result"
    }
   ],
   "source": [
    "# Specifying JSON_FILE filename (can include a folder)\n",
    "# include the search terms in the filename\n",
    "JSON_FILE = f\"Data/results_in_progress_tasty_wings.json\"\n",
    "JSON_FILE\n",
    "\n"
   ]
  },
  {
   "cell_type": "code",
   "execution_count": 5,
   "id": "35fd382e",
   "metadata": {},
   "outputs": [
    {
     "name": "stdout",
     "output_type": "stream",
     "text": [
      "[i] Data/results_in_progress_tasty_wings.json not found. Saving empty list to new file.\n"
     ]
    }
   ],
   "source": [
    "## Check if JSON_FILE exists\n",
    "file_exists = os.path.isfile(JSON_FILE)\n",
    "## If it does not exist: \n",
    "if file_exists == False:\n",
    "    ## INFORM USER AND SAVE EMPTY LIST\n",
    "    print(f\"[i] {JSON_FILE} not found. Saving empty list to new file.\")\n",
    "    ## CREATE ANY NEEDED FOLDERS\n",
    "    # Get the Folder Name only\n",
    "    folder = os.path.dirname(JSON_FILE)\n",
    "    ## If JSON_FILE included a folder:\n",
    "    if len(folder)>0:\n",
    "        # create the folder\n",
    "        os.makedirs(folder,exist_ok=True)\n",
    "    \n",
    "    \n",
    "    ## save an empty list to start the file\n",
    "    with open(JSON_FILE,'w') as f:\n",
    "        json.dump([],f)  \n",
    "## If it exists, inform user\n",
    "else:\n",
    "    print(f\"[i] {JSON_FILE} already exists.\")\n",
    "\n"
   ]
  },
  {
   "cell_type": "code",
   "execution_count": 6,
   "id": "021d31c5",
   "metadata": {},
   "outputs": [
    {
     "name": "stdout",
     "output_type": "stream",
     "text": [
      "- 0 previous results found.\n"
     ]
    }
   ],
   "source": [
    "## Load previous results and use len of results for offset\n",
    "with open(JSON_FILE,'r') as f:\n",
    "    previous_results = json.load(f)\n",
    "    \n",
    "## set offset based on previous results\n",
    "n_results = len(previous_results)\n",
    "print(f'- {n_results} previous results found.')\n",
    "\n"
   ]
  },
  {
   "cell_type": "code",
   "execution_count": 7,
   "id": "630c1fbd",
   "metadata": {},
   "outputs": [
    {
     "data": {
      "text/plain": [
       "dict_keys(['businesses', 'total', 'region'])"
      ]
     },
     "execution_count": 7,
     "metadata": {},
     "output_type": "execute_result"
    }
   ],
   "source": [
    "# use our yelp_api variable's search_query method to perform our API call\n",
    "results = yelp_api.search_query(location='Phoenix, AZ',\n",
    "                                term='Hot Wings',\n",
    "                               offset=n_results)\n",
    "results.keys()\n",
    "\n"
   ]
  },
  {
   "cell_type": "code",
   "execution_count": 8,
   "id": "a75d19e4",
   "metadata": {},
   "outputs": [
    {
     "data": {
      "text/plain": [
       "1500"
      ]
     },
     "execution_count": 8,
     "metadata": {},
     "output_type": "execute_result"
    }
   ],
   "source": [
    "## How many results total?\n",
    "total_results = results['total']\n",
    "total_results\n",
    "\n"
   ]
  },
  {
   "cell_type": "code",
   "execution_count": 9,
   "id": "c5fcc433",
   "metadata": {},
   "outputs": [
    {
     "data": {
      "text/plain": [
       "20"
      ]
     },
     "execution_count": 9,
     "metadata": {},
     "output_type": "execute_result"
    }
   ],
   "source": [
    "## How many did we get the details for?\n",
    "results_per_page = len(results['businesses'])\n",
    "results_per_page\n",
    "\n"
   ]
  },
  {
   "cell_type": "code",
   "execution_count": 10,
   "id": "cfadaf24",
   "metadata": {},
   "outputs": [
    {
     "data": {
      "text/plain": [
       "75"
      ]
     },
     "execution_count": 10,
     "metadata": {},
     "output_type": "execute_result"
    }
   ],
   "source": [
    "# Use math.ceil to round up for the total number of pages of results.\n",
    "n_pages = math.ceil((results['total']-n_results)/ results_per_page)\n",
    "n_pages"
   ]
  },
  {
   "cell_type": "code",
   "execution_count": 11,
   "id": "88c5a2df",
   "metadata": {},
   "outputs": [],
   "source": [
    "# join new results with old list with extend and save to file\n",
    "previous_results.extend(results['businesses'])  \n",
    "with open(JSON_FILE,'w') as f:\n",
    "     json.dump(previous_results,f)\n"
   ]
  },
  {
   "cell_type": "code",
   "execution_count": 12,
   "id": "53468c67",
   "metadata": {},
   "outputs": [],
   "source": [
    "def create_json_file(JSON_FILE,  delete_if_exists=False):\n",
    "    \n",
    "    ## Check if JSON_FILE exists\n",
    "    file_exists = os.path.isfile(JSON_FILE)\n",
    "    \n",
    "    ## If it DOES exist:\n",
    "    if file_exists == True:\n",
    "        \n",
    "        ## Check if user wants to delete if exists\n",
    "        if delete_if_exists==True:\n",
    "            \n",
    "            print(f\"[!] {JSON_FILE} already exists. Deleting previous file...\")\n",
    "            ## delete file and confirm it no longer exits.\n",
    "            os.remove(JSON_FILE)\n",
    "        else:\n",
    "            print(f\"[i] {JSON_FILE} already exists.\")            \n",
    "            \n",
    "            \n",
    "    ## If it does NOT exist:\n",
    "    else:\n",
    "        \n",
    "        ## INFORM USER AND SAVE EMPTY LIST\n",
    "        print(f\"[i] {JSON_FILE} not found. Saving empty list to new file.\")\n",
    "        \n",
    "        ## CREATE ANY NEEDED FOLDERS\n",
    "        # Get the Folder Name only\n",
    "        folder = os.path.dirname(JSON_FILE)\n",
    "        \n",
    "        ## If JSON_FILE included a folder:\n",
    "        if len(folder)>0:\n",
    "            # create the folder\n",
    "            os.makedirs(folder,exist_ok=True)\n",
    "        ## Save empty list to start the json file\n",
    "        with open(JSON_FILE,'w') as f:\n",
    "            json.dump([],f)  \n",
    "\n"
   ]
  },
  {
   "cell_type": "code",
   "execution_count": 13,
   "id": "b21856fd",
   "metadata": {},
   "outputs": [
    {
     "name": "stdout",
     "output_type": "stream",
     "text": [
      "- 20 previous results found.\n"
     ]
    },
    {
     "data": {
      "text/plain": [
       "74"
      ]
     },
     "execution_count": 13,
     "metadata": {},
     "output_type": "execute_result"
    }
   ],
   "source": [
    "## Create a new empty json file (exist the previous if it exists)\n",
    "\n",
    "## Load previous results and use len of results for offset\n",
    "with open(JSON_FILE,'r') as f:\n",
    "    previous_results = json.load(f)\n",
    "    \n",
    "## set offset based on previous results\n",
    "n_results = len(previous_results)\n",
    "print(f'- {n_results} previous results found.')\n",
    "# use our yelp_api variable's search_query method to perform our API call\n",
    "results = yelp_api.search_query(location=\"Phoenix, AZ\",\n",
    "                                term='Hot Wings',\n",
    "                               offset=n_results)\n",
    "## How many results total?\n",
    "total_results = results['total']\n",
    "## How many did we get the details for?\n",
    "results_per_page = len(results['businesses'])\n",
    "# Use math.ceil to round up for the total number of pages of results.\n",
    "n_pages = math.ceil((results['total']-n_results)/ results_per_page)\n",
    "n_pages\n",
    "\n"
   ]
  },
  {
   "cell_type": "code",
   "execution_count": 14,
   "id": "89f23fdb",
   "metadata": {},
   "outputs": [
    {
     "data": {
      "application/vnd.jupyter.widget-view+json": {
       "model_id": "7ec1767815d34c8998934bcf9d0bca73",
       "version_major": 2,
       "version_minor": 0
      },
      "text/plain": [
       "  0%|          | 0/74 [00:00<?, ?it/s]"
      ]
     },
     "metadata": {},
     "output_type": "display_data"
    },
    {
     "name": "stdout",
     "output_type": "stream",
     "text": [
      "Exceeded 1000 api calls. Stopping loop.\n"
     ]
    }
   ],
   "source": [
    "for i in tqdm_notebook( range(1,n_pages+1)):\n",
    "    \n",
    "    ## Read in results in progress file and check the length\n",
    "    with open(JSON_FILE, 'r') as f:\n",
    "        previous_results = json.load(f)\n",
    "    ## save number of results for to use as offset\n",
    "    n_results = len(previous_results)\n",
    "    \n",
    "    if (n_results + results_per_page) > 1000:\n",
    "        print('Exceeded 1000 api calls. Stopping loop.')\n",
    "        break\n",
    "    \n",
    "    ## use n_results as the OFFSET \n",
    "    results = yelp_api.search_query(location='Phoenix, AZ',\n",
    "                                    term='Hot Wings', \n",
    "                                    offset=n_results)\n",
    "    \n",
    "    \n",
    "    \n",
    "    ## append new results and save to file\n",
    "    previous_results.extend(results['businesses'])\n",
    "    \n",
    "    # display(previous_results)\n",
    "    with open(JSON_FILE,'w') as f:\n",
    "        json.dump(previous_results,f)\n",
    "    \n",
    "    time.sleep(.2)\n",
    "\n"
   ]
  },
  {
   "cell_type": "code",
   "execution_count": 15,
   "id": "c930e9e5",
   "metadata": {},
   "outputs": [
    {
     "data": {
      "text/html": [
       "<div>\n",
       "<style scoped>\n",
       "    .dataframe tbody tr th:only-of-type {\n",
       "        vertical-align: middle;\n",
       "    }\n",
       "\n",
       "    .dataframe tbody tr th {\n",
       "        vertical-align: top;\n",
       "    }\n",
       "\n",
       "    .dataframe thead th {\n",
       "        text-align: right;\n",
       "    }\n",
       "</style>\n",
       "<table border=\"1\" class=\"dataframe\">\n",
       "  <thead>\n",
       "    <tr style=\"text-align: right;\">\n",
       "      <th></th>\n",
       "      <th>id</th>\n",
       "      <th>alias</th>\n",
       "      <th>name</th>\n",
       "      <th>image_url</th>\n",
       "      <th>is_closed</th>\n",
       "      <th>url</th>\n",
       "      <th>review_count</th>\n",
       "      <th>categories</th>\n",
       "      <th>rating</th>\n",
       "      <th>coordinates</th>\n",
       "      <th>transactions</th>\n",
       "      <th>price</th>\n",
       "      <th>location</th>\n",
       "      <th>phone</th>\n",
       "      <th>display_phone</th>\n",
       "      <th>distance</th>\n",
       "    </tr>\n",
       "  </thead>\n",
       "  <tbody>\n",
       "    <tr>\n",
       "      <th>0</th>\n",
       "      <td>XHnE__Oec_KDfGTJ7jrIpg</td>\n",
       "      <td>valley-wings-phoenix-2</td>\n",
       "      <td>Valley Wings</td>\n",
       "      <td>https://s3-media3.fl.yelpcdn.com/bphoto/hyxklW...</td>\n",
       "      <td>False</td>\n",
       "      <td>https://www.yelp.com/biz/valley-wings-phoenix-...</td>\n",
       "      <td>494</td>\n",
       "      <td>[{'alias': 'chicken_wings', 'title': 'Chicken ...</td>\n",
       "      <td>4.5</td>\n",
       "      <td>{'latitude': 33.62695, 'longitude': -112.10013}</td>\n",
       "      <td>[pickup, delivery]</td>\n",
       "      <td>$</td>\n",
       "      <td>{'address1': '15414 N 19th Ave', 'address2': '...</td>\n",
       "      <td>+16025043937</td>\n",
       "      <td>(602) 504-3937</td>\n",
       "      <td>1137.406168</td>\n",
       "    </tr>\n",
       "    <tr>\n",
       "      <th>1</th>\n",
       "      <td>MgTEJx28njNh4abS5X50uw</td>\n",
       "      <td>valley-wings-scottsdale</td>\n",
       "      <td>Valley Wings</td>\n",
       "      <td>https://s3-media2.fl.yelpcdn.com/bphoto/ryPZlM...</td>\n",
       "      <td>False</td>\n",
       "      <td>https://www.yelp.com/biz/valley-wings-scottsda...</td>\n",
       "      <td>268</td>\n",
       "      <td>[{'alias': 'chicken_wings', 'title': 'Chicken ...</td>\n",
       "      <td>5.0</td>\n",
       "      <td>{'latitude': 33.464427, 'longitude': -111.908399}</td>\n",
       "      <td>[pickup, delivery]</td>\n",
       "      <td>$$</td>\n",
       "      <td>{'address1': '1495 N Hayden Rd', 'address2': N...</td>\n",
       "      <td>+14806879006</td>\n",
       "      <td>(480) 687-9006</td>\n",
       "      <td>25533.807766</td>\n",
       "    </tr>\n",
       "    <tr>\n",
       "      <th>2</th>\n",
       "      <td>HmOsUTXGc3QhRBTyL4Pmig</td>\n",
       "      <td>crazy-mikes-wings-glendale</td>\n",
       "      <td>Crazy Mike's Wings</td>\n",
       "      <td>https://s3-media2.fl.yelpcdn.com/bphoto/OqKjXx...</td>\n",
       "      <td>False</td>\n",
       "      <td>https://www.yelp.com/biz/crazy-mikes-wings-gle...</td>\n",
       "      <td>365</td>\n",
       "      <td>[{'alias': 'chicken_wings', 'title': 'Chicken ...</td>\n",
       "      <td>4.5</td>\n",
       "      <td>{'latitude': 33.63969499114311, 'longitude': -...</td>\n",
       "      <td>[pickup, delivery]</td>\n",
       "      <td>$$</td>\n",
       "      <td>{'address1': '5350 W Bell Rd', 'address2': 'St...</td>\n",
       "      <td>+16234636881</td>\n",
       "      <td>(623) 463-6881</td>\n",
       "      <td>7462.735591</td>\n",
       "    </tr>\n",
       "    <tr>\n",
       "      <th>3</th>\n",
       "      <td>K1qs4e30yoln6scnm-tmyg</td>\n",
       "      <td>atl-wings-phoenix</td>\n",
       "      <td>ATL Wings</td>\n",
       "      <td>https://s3-media2.fl.yelpcdn.com/bphoto/C2FO36...</td>\n",
       "      <td>False</td>\n",
       "      <td>https://www.yelp.com/biz/atl-wings-phoenix?adj...</td>\n",
       "      <td>339</td>\n",
       "      <td>[{'alias': 'chicken_wings', 'title': 'Chicken ...</td>\n",
       "      <td>4.0</td>\n",
       "      <td>{'latitude': 33.47988, 'longitude': -111.99777}</td>\n",
       "      <td>[delivery]</td>\n",
       "      <td>$</td>\n",
       "      <td>{'address1': '3923 E Thomas Rd', 'address2': '...</td>\n",
       "      <td>+16022759464</td>\n",
       "      <td>(602) 275-9464</td>\n",
       "      <td>19348.478838</td>\n",
       "    </tr>\n",
       "    <tr>\n",
       "      <th>4</th>\n",
       "      <td>jb-SRwuyska79jPV7FrOfA</td>\n",
       "      <td>epic-wings-glendale</td>\n",
       "      <td>Epic Wings</td>\n",
       "      <td>https://s3-media2.fl.yelpcdn.com/bphoto/skCYM1...</td>\n",
       "      <td>False</td>\n",
       "      <td>https://www.yelp.com/biz/epic-wings-glendale?a...</td>\n",
       "      <td>134</td>\n",
       "      <td>[{'alias': 'chicken_wings', 'title': 'Chicken ...</td>\n",
       "      <td>4.5</td>\n",
       "      <td>{'latitude': 33.50888209354806, 'longitude': -...</td>\n",
       "      <td>[delivery]</td>\n",
       "      <td>$</td>\n",
       "      <td>{'address1': '9524 W Camelback Rd', 'address2'...</td>\n",
       "      <td>+16027731477</td>\n",
       "      <td>(602) 773-1477</td>\n",
       "      <td>21132.246432</td>\n",
       "    </tr>\n",
       "  </tbody>\n",
       "</table>\n",
       "</div>"
      ],
      "text/plain": [
       "                       id                       alias                name  \\\n",
       "0  XHnE__Oec_KDfGTJ7jrIpg      valley-wings-phoenix-2        Valley Wings   \n",
       "1  MgTEJx28njNh4abS5X50uw     valley-wings-scottsdale        Valley Wings   \n",
       "2  HmOsUTXGc3QhRBTyL4Pmig  crazy-mikes-wings-glendale  Crazy Mike's Wings   \n",
       "3  K1qs4e30yoln6scnm-tmyg           atl-wings-phoenix           ATL Wings   \n",
       "4  jb-SRwuyska79jPV7FrOfA         epic-wings-glendale          Epic Wings   \n",
       "\n",
       "                                           image_url  is_closed  \\\n",
       "0  https://s3-media3.fl.yelpcdn.com/bphoto/hyxklW...      False   \n",
       "1  https://s3-media2.fl.yelpcdn.com/bphoto/ryPZlM...      False   \n",
       "2  https://s3-media2.fl.yelpcdn.com/bphoto/OqKjXx...      False   \n",
       "3  https://s3-media2.fl.yelpcdn.com/bphoto/C2FO36...      False   \n",
       "4  https://s3-media2.fl.yelpcdn.com/bphoto/skCYM1...      False   \n",
       "\n",
       "                                                 url  review_count  \\\n",
       "0  https://www.yelp.com/biz/valley-wings-phoenix-...           494   \n",
       "1  https://www.yelp.com/biz/valley-wings-scottsda...           268   \n",
       "2  https://www.yelp.com/biz/crazy-mikes-wings-gle...           365   \n",
       "3  https://www.yelp.com/biz/atl-wings-phoenix?adj...           339   \n",
       "4  https://www.yelp.com/biz/epic-wings-glendale?a...           134   \n",
       "\n",
       "                                          categories  rating  \\\n",
       "0  [{'alias': 'chicken_wings', 'title': 'Chicken ...     4.5   \n",
       "1  [{'alias': 'chicken_wings', 'title': 'Chicken ...     5.0   \n",
       "2  [{'alias': 'chicken_wings', 'title': 'Chicken ...     4.5   \n",
       "3  [{'alias': 'chicken_wings', 'title': 'Chicken ...     4.0   \n",
       "4  [{'alias': 'chicken_wings', 'title': 'Chicken ...     4.5   \n",
       "\n",
       "                                         coordinates        transactions  \\\n",
       "0    {'latitude': 33.62695, 'longitude': -112.10013}  [pickup, delivery]   \n",
       "1  {'latitude': 33.464427, 'longitude': -111.908399}  [pickup, delivery]   \n",
       "2  {'latitude': 33.63969499114311, 'longitude': -...  [pickup, delivery]   \n",
       "3    {'latitude': 33.47988, 'longitude': -111.99777}          [delivery]   \n",
       "4  {'latitude': 33.50888209354806, 'longitude': -...          [delivery]   \n",
       "\n",
       "  price                                           location         phone  \\\n",
       "0     $  {'address1': '15414 N 19th Ave', 'address2': '...  +16025043937   \n",
       "1    $$  {'address1': '1495 N Hayden Rd', 'address2': N...  +14806879006   \n",
       "2    $$  {'address1': '5350 W Bell Rd', 'address2': 'St...  +16234636881   \n",
       "3     $  {'address1': '3923 E Thomas Rd', 'address2': '...  +16022759464   \n",
       "4     $  {'address1': '9524 W Camelback Rd', 'address2'...  +16027731477   \n",
       "\n",
       "    display_phone      distance  \n",
       "0  (602) 504-3937   1137.406168  \n",
       "1  (480) 687-9006  25533.807766  \n",
       "2  (623) 463-6881   7462.735591  \n",
       "3  (602) 275-9464  19348.478838  \n",
       "4  (602) 773-1477  21132.246432  "
      ]
     },
     "metadata": {},
     "output_type": "display_data"
    },
    {
     "data": {
      "text/html": [
       "<div>\n",
       "<style scoped>\n",
       "    .dataframe tbody tr th:only-of-type {\n",
       "        vertical-align: middle;\n",
       "    }\n",
       "\n",
       "    .dataframe tbody tr th {\n",
       "        vertical-align: top;\n",
       "    }\n",
       "\n",
       "    .dataframe thead th {\n",
       "        text-align: right;\n",
       "    }\n",
       "</style>\n",
       "<table border=\"1\" class=\"dataframe\">\n",
       "  <thead>\n",
       "    <tr style=\"text-align: right;\">\n",
       "      <th></th>\n",
       "      <th>id</th>\n",
       "      <th>alias</th>\n",
       "      <th>name</th>\n",
       "      <th>image_url</th>\n",
       "      <th>is_closed</th>\n",
       "      <th>url</th>\n",
       "      <th>review_count</th>\n",
       "      <th>categories</th>\n",
       "      <th>rating</th>\n",
       "      <th>coordinates</th>\n",
       "      <th>transactions</th>\n",
       "      <th>price</th>\n",
       "      <th>location</th>\n",
       "      <th>phone</th>\n",
       "      <th>display_phone</th>\n",
       "      <th>distance</th>\n",
       "    </tr>\n",
       "  </thead>\n",
       "  <tbody>\n",
       "    <tr>\n",
       "      <th>995</th>\n",
       "      <td>x8Sp-h-oR5WdzoG5WEsHnQ</td>\n",
       "      <td>kfc-phoenix-6</td>\n",
       "      <td>KFC</td>\n",
       "      <td>https://s3-media2.fl.yelpcdn.com/bphoto/QJRDy9...</td>\n",
       "      <td>False</td>\n",
       "      <td>https://www.yelp.com/biz/kfc-phoenix-6?adjust_...</td>\n",
       "      <td>79</td>\n",
       "      <td>[{'alias': 'hotdogs', 'title': 'Fast Food'}, {...</td>\n",
       "      <td>1.5</td>\n",
       "      <td>{'latitude': 33.6411582785754, 'longitude': -1...</td>\n",
       "      <td>[pickup, delivery]</td>\n",
       "      <td>$</td>\n",
       "      <td>{'address1': '4050 E Bell Rd', 'address2': '',...</td>\n",
       "      <td>+16024046498</td>\n",
       "      <td>(602) 404-6498</td>\n",
       "      <td>9278.668082</td>\n",
       "    </tr>\n",
       "    <tr>\n",
       "      <th>996</th>\n",
       "      <td>r-1gEc8Xvojo770CaS2gUw</td>\n",
       "      <td>papa-johns-pizza-goodyear-2</td>\n",
       "      <td>Papa Johns Pizza</td>\n",
       "      <td>https://s3-media3.fl.yelpcdn.com/bphoto/GT79Ta...</td>\n",
       "      <td>False</td>\n",
       "      <td>https://www.yelp.com/biz/papa-johns-pizza-good...</td>\n",
       "      <td>22</td>\n",
       "      <td>[{'alias': 'pizza', 'title': 'Pizza'}, {'alias...</td>\n",
       "      <td>3.5</td>\n",
       "      <td>{'latitude': 33.357361325064375, 'longitude': ...</td>\n",
       "      <td>[pickup]</td>\n",
       "      <td>$</td>\n",
       "      <td>{'address1': '17650 W. Elliot Rd.', 'address2'...</td>\n",
       "      <td>+16235727272</td>\n",
       "      <td>(623) 572-7272</td>\n",
       "      <td>43837.881168</td>\n",
       "    </tr>\n",
       "    <tr>\n",
       "      <th>997</th>\n",
       "      <td>AkLslZ2ZnURpY37Xtfnu-Q</td>\n",
       "      <td>state-48-funk-house-glendale</td>\n",
       "      <td>State 48 Funk House</td>\n",
       "      <td>https://s3-media1.fl.yelpcdn.com/bphoto/cmg6DM...</td>\n",
       "      <td>False</td>\n",
       "      <td>https://www.yelp.com/biz/state-48-funk-house-g...</td>\n",
       "      <td>308</td>\n",
       "      <td>[{'alias': 'breweries', 'title': 'Breweries'},...</td>\n",
       "      <td>2.5</td>\n",
       "      <td>{'latitude': 33.53415324139475, 'longitude': -...</td>\n",
       "      <td>[pickup, delivery]</td>\n",
       "      <td>$$</td>\n",
       "      <td>{'address1': '6770 N Sunrise Blvd', 'address2'...</td>\n",
       "      <td>+16238774448</td>\n",
       "      <td>(623) 877-4448</td>\n",
       "      <td>19095.691815</td>\n",
       "    </tr>\n",
       "    <tr>\n",
       "      <th>998</th>\n",
       "      <td>mygLP5-SCnQwIev6LU9gWg</td>\n",
       "      <td>georges-famous-gyros-scottsdale</td>\n",
       "      <td>George's Famous Gyros</td>\n",
       "      <td>https://s3-media1.fl.yelpcdn.com/bphoto/rtcDYJ...</td>\n",
       "      <td>False</td>\n",
       "      <td>https://www.yelp.com/biz/georges-famous-gyros-...</td>\n",
       "      <td>553</td>\n",
       "      <td>[{'alias': 'greek', 'title': 'Greek'}, {'alias...</td>\n",
       "      <td>4.5</td>\n",
       "      <td>{'latitude': 33.45168, 'longitude': -111.91653}</td>\n",
       "      <td>[pickup]</td>\n",
       "      <td>$$</td>\n",
       "      <td>{'address1': '7620 E McKellips Rd', 'address2'...</td>\n",
       "      <td>+14808741354</td>\n",
       "      <td>(480) 874-1354</td>\n",
       "      <td>26105.765941</td>\n",
       "    </tr>\n",
       "    <tr>\n",
       "      <th>999</th>\n",
       "      <td>aIvvMGWW-Yy3zPZlnXL6Uw</td>\n",
       "      <td>barros-pizza-glendale-4</td>\n",
       "      <td>Barro's Pizza</td>\n",
       "      <td>https://s3-media4.fl.yelpcdn.com/bphoto/OKuxS8...</td>\n",
       "      <td>False</td>\n",
       "      <td>https://www.yelp.com/biz/barros-pizza-glendale...</td>\n",
       "      <td>81</td>\n",
       "      <td>[{'alias': 'pizza', 'title': 'Pizza'}, {'alias...</td>\n",
       "      <td>3.5</td>\n",
       "      <td>{'latitude': 33.6130542030071, 'longitude': -1...</td>\n",
       "      <td>[delivery]</td>\n",
       "      <td>$</td>\n",
       "      <td>{'address1': '13971 N 59th Ave', 'address2': '...</td>\n",
       "      <td>+16024903090</td>\n",
       "      <td>(602) 490-3090</td>\n",
       "      <td>8837.501895</td>\n",
       "    </tr>\n",
       "  </tbody>\n",
       "</table>\n",
       "</div>"
      ],
      "text/plain": [
       "                         id                            alias  \\\n",
       "995  x8Sp-h-oR5WdzoG5WEsHnQ                    kfc-phoenix-6   \n",
       "996  r-1gEc8Xvojo770CaS2gUw      papa-johns-pizza-goodyear-2   \n",
       "997  AkLslZ2ZnURpY37Xtfnu-Q     state-48-funk-house-glendale   \n",
       "998  mygLP5-SCnQwIev6LU9gWg  georges-famous-gyros-scottsdale   \n",
       "999  aIvvMGWW-Yy3zPZlnXL6Uw          barros-pizza-glendale-4   \n",
       "\n",
       "                      name                                          image_url  \\\n",
       "995                    KFC  https://s3-media2.fl.yelpcdn.com/bphoto/QJRDy9...   \n",
       "996       Papa Johns Pizza  https://s3-media3.fl.yelpcdn.com/bphoto/GT79Ta...   \n",
       "997    State 48 Funk House  https://s3-media1.fl.yelpcdn.com/bphoto/cmg6DM...   \n",
       "998  George's Famous Gyros  https://s3-media1.fl.yelpcdn.com/bphoto/rtcDYJ...   \n",
       "999          Barro's Pizza  https://s3-media4.fl.yelpcdn.com/bphoto/OKuxS8...   \n",
       "\n",
       "     is_closed                                                url  \\\n",
       "995      False  https://www.yelp.com/biz/kfc-phoenix-6?adjust_...   \n",
       "996      False  https://www.yelp.com/biz/papa-johns-pizza-good...   \n",
       "997      False  https://www.yelp.com/biz/state-48-funk-house-g...   \n",
       "998      False  https://www.yelp.com/biz/georges-famous-gyros-...   \n",
       "999      False  https://www.yelp.com/biz/barros-pizza-glendale...   \n",
       "\n",
       "     review_count                                         categories  rating  \\\n",
       "995            79  [{'alias': 'hotdogs', 'title': 'Fast Food'}, {...     1.5   \n",
       "996            22  [{'alias': 'pizza', 'title': 'Pizza'}, {'alias...     3.5   \n",
       "997           308  [{'alias': 'breweries', 'title': 'Breweries'},...     2.5   \n",
       "998           553  [{'alias': 'greek', 'title': 'Greek'}, {'alias...     4.5   \n",
       "999            81  [{'alias': 'pizza', 'title': 'Pizza'}, {'alias...     3.5   \n",
       "\n",
       "                                           coordinates        transactions  \\\n",
       "995  {'latitude': 33.6411582785754, 'longitude': -1...  [pickup, delivery]   \n",
       "996  {'latitude': 33.357361325064375, 'longitude': ...            [pickup]   \n",
       "997  {'latitude': 33.53415324139475, 'longitude': -...  [pickup, delivery]   \n",
       "998    {'latitude': 33.45168, 'longitude': -111.91653}            [pickup]   \n",
       "999  {'latitude': 33.6130542030071, 'longitude': -1...          [delivery]   \n",
       "\n",
       "    price                                           location         phone  \\\n",
       "995     $  {'address1': '4050 E Bell Rd', 'address2': '',...  +16024046498   \n",
       "996     $  {'address1': '17650 W. Elliot Rd.', 'address2'...  +16235727272   \n",
       "997    $$  {'address1': '6770 N Sunrise Blvd', 'address2'...  +16238774448   \n",
       "998    $$  {'address1': '7620 E McKellips Rd', 'address2'...  +14808741354   \n",
       "999     $  {'address1': '13971 N 59th Ave', 'address2': '...  +16024903090   \n",
       "\n",
       "      display_phone      distance  \n",
       "995  (602) 404-6498   9278.668082  \n",
       "996  (623) 572-7272  43837.881168  \n",
       "997  (623) 877-4448  19095.691815  \n",
       "998  (480) 874-1354  26105.765941  \n",
       "999  (602) 490-3090   8837.501895  "
      ]
     },
     "metadata": {},
     "output_type": "display_data"
    }
   ],
   "source": [
    "# load final results\n",
    "final_df = pd.read_json(JSON_FILE)\n",
    "display(final_df.head(), final_df.tail())\n"
   ]
  },
  {
   "cell_type": "code",
   "execution_count": 18,
   "id": "b45b7c18",
   "metadata": {},
   "outputs": [
    {
     "data": {
      "text/plain": [
       "0"
      ]
     },
     "execution_count": 18,
     "metadata": {},
     "output_type": "execute_result"
    }
   ],
   "source": [
    "## Drop duplicate ids and confirm there are no more duplicates\n",
    "final_df = final_df.drop_duplicates(subset='id')\n",
    "final_df.duplicated(subset='id').sum()\n"
   ]
  },
  {
   "cell_type": "code",
   "execution_count": 17,
   "id": "ce9ed9fb",
   "metadata": {},
   "outputs": [],
   "source": [
    "# save the final results to a compressed csv\n",
    "final_df.to_csv('Data/final_results_tasty_wings.csv.gz', compression='gzip',index=False)\n",
    "\n"
   ]
  },
  {
   "cell_type": "code",
   "execution_count": null,
   "id": "bddde9b4",
   "metadata": {},
   "outputs": [],
   "source": []
  },
  {
   "cell_type": "code",
   "execution_count": null,
   "id": "fa4a0c59",
   "metadata": {},
   "outputs": [],
   "source": []
  },
  {
   "cell_type": "code",
   "execution_count": null,
   "id": "9d8e40aa",
   "metadata": {},
   "outputs": [],
   "source": []
  },
  {
   "cell_type": "code",
   "execution_count": null,
   "id": "339bfc9d",
   "metadata": {},
   "outputs": [],
   "source": []
  },
  {
   "cell_type": "code",
   "execution_count": null,
   "id": "48241b50",
   "metadata": {},
   "outputs": [],
   "source": []
  },
  {
   "cell_type": "code",
   "execution_count": null,
   "id": "26600fa2",
   "metadata": {},
   "outputs": [],
   "source": [
    "\n"
   ]
  },
  {
   "cell_type": "code",
   "execution_count": null,
   "id": "b9c47c52",
   "metadata": {},
   "outputs": [],
   "source": [
    "\n"
   ]
  },
  {
   "cell_type": "code",
   "execution_count": null,
   "id": "632f5249",
   "metadata": {},
   "outputs": [],
   "source": [
    "\n"
   ]
  },
  {
   "cell_type": "code",
   "execution_count": null,
   "id": "9f69c7e5",
   "metadata": {},
   "outputs": [],
   "source": [
    "\n",
    "\n"
   ]
  },
  {
   "cell_type": "code",
   "execution_count": null,
   "id": "97366b61",
   "metadata": {},
   "outputs": [],
   "source": []
  }
 ],
 "metadata": {
  "kernelspec": {
   "display_name": "Python (dojo-env)",
   "language": "python",
   "name": "dojo-env"
  },
  "language_info": {
   "codemirror_mode": {
    "name": "ipython",
    "version": 3
   },
   "file_extension": ".py",
   "mimetype": "text/x-python",
   "name": "python",
   "nbconvert_exporter": "python",
   "pygments_lexer": "ipython3",
   "version": "3.8.13"
  },
  "toc": {
   "base_numbering": 1,
   "nav_menu": {},
   "number_sections": true,
   "sideBar": true,
   "skip_h1_title": false,
   "title_cell": "Table of Contents",
   "title_sidebar": "Contents",
   "toc_cell": false,
   "toc_position": {},
   "toc_section_display": true,
   "toc_window_display": false
  }
 },
 "nbformat": 4,
 "nbformat_minor": 5
}
